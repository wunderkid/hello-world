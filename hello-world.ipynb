My First statement
Welcome to my first website! I am about to embark on the exciting journey of learning how to code. Won't you join me?
